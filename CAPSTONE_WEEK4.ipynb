{
 "cells": [
  {
   "cell_type": "markdown",
   "metadata": {},
   "source": [
    "### This notebook will be used for the Assignment of week 4 of capstone course for Applied Data Science on Coursera"
   ]
  },
  {
   "cell_type": "markdown",
   "metadata": {},
   "source": [
    "### Author: Rajiv Ranjan Singh"
   ]
  },
  {
   "cell_type": "markdown",
   "metadata": {},
   "source": [
    "# 1. Introduction\n",
    "\n",
    "In this project for the capstone course for Applied Data Science, we shall cluster and compare neighbourhoods in Toronto and New York City on the basis of popular venues, major crime indicators and area of the neighbourhood. At the end of the exercise, a desirable output shall be a table of similar neighbourhoods across New York and Toronto. This information shall be useful for anyone who is doing business in any of these cities and wants to expand to the other city. It shall also be useful for professionals who are looking to change jobs within New York or Toronto or from one city to another.  "
   ]
  },
  {
   "cell_type": "markdown",
   "metadata": {},
   "source": [
    "# 2. Data\n",
    "\n",
    "For our project we will need the following data for both Toronto and New York:\n",
    "\n",
    "1. Major Crime Indicators for each neighbourhood/precinct\n",
    "2. Area, Latitude and Longitutde for each neighbourhood/precinct\n",
    "3. List of popular venues for each neighbourhood/precinct\n",
    "\n",
    "## 2.1 Data for Toronto\n",
    "\n",
    "1. For crime statistics of Toronto we shall use the data provided <a href=\"https://services.arcgis.com/S9th0jAJ7bqgIRjw/arcgis/rest/services/Neighbourhood_MCI/FeatureServer/0/query?where=1%3D1&outFields=*&returnGeometry=false&outSR=4326&f=json\">here. </a> This dataset provides a number of features including, neighbourhood name, neighbouhood id, major crime indicators from 2014-2018, average of major crimes for last 5 years, area and length of boundaries of each neighbourhood and population. For our analysis, we shall retain the data on \n",
    "\n",
    "    - Neighbourhood \n",
    "    - Assault_AVG\n",
    "    - AutoTheft_AVG\n",
    "    - BreakandEnter_AVG\n",
    "    - Robbery_AVG\n",
    "    - TheftOver_AVG\n",
    "    - Homicide_AVG\n",
    "    - Shape__Area\n",
    "\n",
    "\n",
    "2. For latitude and longitude of each neighbourhood, we shall fetch the data for each neighbourhood using **'Here'** geocoder from geopy library in Python.\n",
    "\n",
    "\n",
    "3. The data of venues and venue categories for each neighbourhood will be fetched using **Foursquare API**.\n",
    "\n",
    "## 2.2 Data for New York\n",
    "\n",
    "1. For crime statistics of New York we shall use the data provided <a href=\"https://www1.nyc.gov/assets/nypd/downloads/excel/analysis_and_planning/historical-crime-data/seven-major-felony-offenses-by-precinct-2000-2018.xls\">here. </a> This dataset provides a number of features including precinct id, major crimes from 2001-2018. For our analysis, we shall retain the data on \n",
    "\n",
    " - Precinct id \n",
    " - Crime figures from 2014 to 2018\n",
    "   \n",
    "Using **dataset cleaning and feature engineering**, we shall compute the average of major crimes for each precinct and rename the columns to align the dataset with toronto dataset. For further analysis, each precinct shall be treated as a neighbourhood. \n",
    "\n",
    "2. For location data of New York Precincts, open data available at <a href=\"https://data.cityofnewyork.us/api/views/kmub-vria/rows.csv?accessType=DOWNLOAD\">this link</a>  will be used. This dataset provides the boundary data and shape_area for each precinct. The centroid (latitude and longitude) of each precinct will be calculated by extracting the boundary data from above dataset and used as neighbourhood latitude and longitude. Shape_area feature will be used as it is.  \n",
    "\n",
    "*During coding, the performance of several free geocoders in fetching location data for precincts was observed to be poor as many precincts could not be located by free geocoders available in geopy.*\n",
    "\n",
    "3. The data of venues and venue categories for each neighbourhood will be fetched using **Foursquare API**. "
   ]
  },
  {
   "cell_type": "markdown",
   "metadata": {},
   "source": [
    "### Thank you for going through my notebook."
   ]
  }
 ],
 "metadata": {
  "celltoolbar": "Raw Cell Format",
  "kernelspec": {
   "display_name": "Python 3",
   "language": "python",
   "name": "python3"
  },
  "language_info": {
   "codemirror_mode": {
    "name": "ipython",
    "version": 3
   },
   "file_extension": ".py",
   "mimetype": "text/x-python",
   "name": "python",
   "nbconvert_exporter": "python",
   "pygments_lexer": "ipython3",
   "version": "3.6.8"
  }
 },
 "nbformat": 4,
 "nbformat_minor": 2
}
